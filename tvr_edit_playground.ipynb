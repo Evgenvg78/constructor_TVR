{
 "cells": [
  {
   "cell_type": "markdown",
   "id": "2c62f926",
   "metadata": {},
   "source": [
    "# TVR Layout Editing Playground\n",
    "\n",
    "Этот блокнот показывает полный цикл:\n",
    "\n",
    "1. загрузка исходного TVR и парсинг выбранных стратегий;\n",
    "2. получение структуры в относительных `begin+N` индексах;\n",
    "3. ручное изменение структуры;\n",
    "4. генерация нового фрагмента TVR с проверками."
   ]
  },
  {
   "cell_type": "markdown",
   "id": "1cc938b2",
   "metadata": {},
   "source": [
    "## 0. Настройки\n",
    "Заполните параметры перед запуском остальных ячеек."
   ]
  },
  {
   "cell_type": "code",
   "execution_count": 3,
   "id": "a351b270",
   "metadata": {},
   "outputs": [],
   "source": [
    "from pathlib import Path\n",
    "\n",
    "from src.tvr_service.generator import (\n",
    "    build_layout_from_source,\n",
    "    parse_layout_text,\n",
    "    compile_layout,\n",
    "    generate_robot_segment,\n",
    ")\n",
    "\n",
    "# Путь к исходному TVR-файлу\n",
    "SOURCE_TVR = Path(\"Default.tvr2\")\n",
    "\n",
    "# Список базовых строк (long/short), которые хотим спарсить\n",
    "BASE_STROKAS = [5562, 5566]\n",
    "\n",
    "# Базовое назначение begin-позиций (где должна оказаться каждая база)\n",
    "BASE_ASSIGNMENT = {5562: 1, 5566: 5}\n",
    "\n",
    "# Основные параметры генерации\n",
    "SEC0_VALUE = \"ММЕ55\"  # Пример: заменить инструмент\n",
    "OUTPUT_TVR_PATH = Path(\"generated_from_layout.tvr2\")\n",
    "OUTPUT_EXCEL_PATH = Path(\"generated_from_layout.xlsx\")  # Поставьте None, если Excel не нужен\n",
    "\n",
    "# Если True, то при парсинге дублируем общие фильтры (обычно оставляем False)\n",
    "DUPLICATE_SHARED_FILTERS = False"
   ]
  },
  {
   "cell_type": "markdown",
   "id": "1085a673",
   "metadata": {},
   "source": [
    "## 1. Получаем структуру шаблона\n",
    "Запускаем парсер и смотрим структуру относительно базы (0 = первая база)."
   ]
  },
  {
   "cell_type": "code",
   "execution_count": 4,
   "id": "0a350a86",
   "metadata": {},
   "outputs": [
    {
     "name": "stdout",
     "output_type": "stream",
     "text": [
      "#base_long: 0\n",
      "##filter_1_long_&_short: 8\n",
      "###filter_2_long_&_short: 12\n",
      "####filter_3_long_&_short: 13\n",
      "#####filter_4_long_&_short: 14\n",
      "######filter_5_long_&_short: 16\n",
      "#######filter_6_long_&_short: 17\n",
      "########filter_7_long_&_short: 18\n",
      "####filter_3_long_&_short: 15\n",
      "#base_short: 4\n",
      "\n",
      "Всего строк: 10\n"
     ]
    }
   ],
   "source": [
    "layout = build_layout_from_source(\n",
    "    str(SOURCE_TVR),\n",
    "    BASE_STROKAS,\n",
    "    duplicate_shared_filters=DUPLICATE_SHARED_FILTERS,\n",
    ")\n",
    "\n",
    "layout_lines = layout.to_lines()\n",
    "for line in layout_lines:\n",
    "    print(line)\n",
    "print()\n",
    "print(f\"Всего строк: {len(layout_lines)}\")\n"
   ]
  },
  {
   "cell_type": "markdown",
   "id": "904e527c",
   "metadata": {},
   "source": [
    "## 2. Готовим текст для редактирования\n",
    "Ячейка ниже создаёт строку `edited_text`. Скопируйте её в буфер, отредактируйте прямо в ячейке и запустите заново.\n",
    "\n",
    "* Формат строки: `#label: текущий_offset[: новый_offset]`.\n",
    "* Если второй offset не задан, позиция не меняется."
   ]
  },
  {
   "cell_type": "code",
   "execution_count": null,
   "id": "4f303883",
   "metadata": {},
   "outputs": [],
   "source": [
    "\n",
    "\n",
    "edited_text = \"\"\"#base_long: 0\n",
    "##filter_1_long_&_short: 8 : 3\n",
    "###filter_2_long_&_short: 12 : 4\n",
    "####filter_3_long_&_short: 13 : 5\n",
    "#####filter_4_long_&_short: 14 : 6\n",
    "######filter_5_long_&_short: 16 : 8\n",
    "#######filter_6_long_&_short: 17 : 9\n",
    "########filter_7_long_&_short: 18 : 10\n",
    "####filter_3_long_&_short: 15 : 7\n",
    "#base_short: 4 : 1\"\"\"\n",
    "\n",
    "\n",
    "\n"
   ]
  },
  {
   "cell_type": "markdown",
   "id": "645c4369",
   "metadata": {},
   "source": [
    "После того как внесли изменения и перезапустили ячейку с `edited_text`, выполните код ниже для проверки синтаксиса."
   ]
  },
  {
   "cell_type": "code",
   "execution_count": 13,
   "id": "e02d0881",
   "metadata": {},
   "outputs": [
    {
     "name": "stdout",
     "output_type": "stream",
     "text": [
      "Обнаружены изменения (stroka -> новый относительный offset):\n",
      "{5570: 3, 5574: 4, 5575: 5, 5576: 6, 5578: 8, 5579: 9, 5580: 10, 5577: 7, 5566: 1}\n"
     ]
    }
   ],
   "source": [
    "edits = parse_layout_text(layout, edited_text)\n",
    "print(\"Обнаружены изменения (stroka -> новый относительный offset):\")\n",
    "print(edits.relative_overrides if edits.relative_overrides else \"нет изменений\")"
   ]
  },
  {
   "cell_type": "code",
   "execution_count": null,
   "id": "83f392aa",
   "metadata": {},
   "outputs": [],
   "source": []
  },
  {
   "cell_type": "markdown",
   "id": "33f7b467",
   "metadata": {},
   "source": [
    "## 3. Компилируем новую структуру\n",
    "Получаем `base_assignment` и `stroka_overrides`, которые потом передадим генератору."
   ]
  },
  {
   "cell_type": "code",
   "execution_count": 14,
   "id": "531c45e6",
   "metadata": {},
   "outputs": [
    {
     "name": "stdout",
     "output_type": "stream",
     "text": [
      "base_assignment -> {5562: 1, 5566: 2}\n",
      "stroka_overrides -> {5570: 4, 5574: 5, 5575: 6, 5576: 7, 5578: 9, 5579: 10, 5580: 11, 5577: 8}\n"
     ]
    }
   ],
   "source": [
    "compiled_layout = compile_layout(layout, edits, BASE_ASSIGNMENT)\n",
    "print(\"base_assignment ->\", compiled_layout.base_assignment)\n",
    "print(\"stroka_overrides ->\", compiled_layout.stroka_overrides if compiled_layout.stroka_overrides else \"{}\")"
   ]
  },
  {
   "cell_type": "markdown",
   "id": "ea76974e",
   "metadata": {},
   "source": [
    "## 4. Генерируем новый фрагмент TVR\n",
    "Файлы сохраняются по путям, указанным в настройках. DataFrame выводится для быстрого контроля."
   ]
  },
  {
   "cell_type": "code",
   "execution_count": 16,
   "id": "9356b578",
   "metadata": {},
   "outputs": [
    {
     "name": "stderr",
     "output_type": "stream",
     "text": [
      "c:\\Users\\user\\Documents\\piranha\\constructor_TVR\\converters.py:166: FutureWarning: errors='ignore' is deprecated and will raise in a future version. Use to_numeric without passing `errors` and catch exceptions explicitly instead\n",
      "  wide[c] = pd.to_numeric(wide[c], errors='ignore', downcast='integer')\n"
     ]
    },
    {
     "name": "stdout",
     "output_type": "stream",
     "text": [
      "Готово. Файлы сохранены:\n",
      "  TVR: C:\\Users\\user\\Documents\\piranha\\constructor_TVR\\generated_from_layout.tvr2\n",
      "  Excel: C:\\Users\\user\\Documents\\piranha\\constructor_TVR\\generated_from_layout.xlsx\n",
      "Первые строки результата:\n"
     ]
    },
    {
     "data": {
      "text/html": [
       "<div>\n",
       "<style scoped>\n",
       "    .dataframe tbody tr th:only-of-type {\n",
       "        vertical-align: middle;\n",
       "    }\n",
       "\n",
       "    .dataframe tbody tr th {\n",
       "        vertical-align: top;\n",
       "    }\n",
       "\n",
       "    .dataframe thead th {\n",
       "        text-align: right;\n",
       "    }\n",
       "</style>\n",
       "<table border=\"1\" class=\"dataframe\">\n",
       "  <thead>\n",
       "    <tr style=\"text-align: right;\">\n",
       "      <th></th>\n",
       "      <th>stroka</th>\n",
       "      <th>Start</th>\n",
       "      <th>Kill all</th>\n",
       "      <th>Out only</th>\n",
       "      <th>InL1</th>\n",
       "      <th>InL2</th>\n",
       "      <th>OutL1</th>\n",
       "      <th>OutL2</th>\n",
       "      <th>Pos</th>\n",
       "      <th>Limit</th>\n",
       "      <th>...</th>\n",
       "      <th>T.In</th>\n",
       "      <th>T.Out</th>\n",
       "      <th>NotSet</th>\n",
       "      <th>FrId</th>\n",
       "      <th>MoveN</th>\n",
       "      <th>secIn</th>\n",
       "      <th>secOut</th>\n",
       "      <th>XN</th>\n",
       "      <th>MP</th>\n",
       "      <th>xx</th>\n",
       "    </tr>\n",
       "  </thead>\n",
       "  <tbody>\n",
       "    <tr>\n",
       "      <th>0</th>\n",
       "      <td>1</td>\n",
       "      <td>True</td>\n",
       "      <td>None</td>\n",
       "      <td>None</td>\n",
       "      <td>4</td>\n",
       "      <td>None</td>\n",
       "      <td>8</td>\n",
       "      <td>5</td>\n",
       "      <td>None</td>\n",
       "      <td>None</td>\n",
       "      <td>...</td>\n",
       "      <td>09:00:20-23:50:00</td>\n",
       "      <td>09:00:20-23:50:00</td>\n",
       "      <td>0.0</td>\n",
       "      <td>None</td>\n",
       "      <td>3/0</td>\n",
       "      <td>None</td>\n",
       "      <td>None</td>\n",
       "      <td>0.005</td>\n",
       "      <td>None</td>\n",
       "      <td>None</td>\n",
       "    </tr>\n",
       "    <tr>\n",
       "      <th>1</th>\n",
       "      <td>2</td>\n",
       "      <td>True</td>\n",
       "      <td>None</td>\n",
       "      <td>None</td>\n",
       "      <td>4</td>\n",
       "      <td>None</td>\n",
       "      <td>8</td>\n",
       "      <td>5</td>\n",
       "      <td>None</td>\n",
       "      <td>None</td>\n",
       "      <td>...</td>\n",
       "      <td>09:00:20-23:50:00</td>\n",
       "      <td>09:00:20-23:50:00</td>\n",
       "      <td>0.0</td>\n",
       "      <td>None</td>\n",
       "      <td>3/0</td>\n",
       "      <td>None</td>\n",
       "      <td>None</td>\n",
       "      <td>0.005</td>\n",
       "      <td>None</td>\n",
       "      <td>None</td>\n",
       "    </tr>\n",
       "    <tr>\n",
       "      <th>2</th>\n",
       "      <td>4</td>\n",
       "      <td>None</td>\n",
       "      <td>None</td>\n",
       "      <td>None</td>\n",
       "      <td>5</td>\n",
       "      <td>None</td>\n",
       "      <td>None</td>\n",
       "      <td>None</td>\n",
       "      <td>None</td>\n",
       "      <td>None</td>\n",
       "      <td>...</td>\n",
       "      <td>09:00:00-23:50:00</td>\n",
       "      <td>09:00:00-23:50:00</td>\n",
       "      <td>NaN</td>\n",
       "      <td>None</td>\n",
       "      <td>None</td>\n",
       "      <td>None</td>\n",
       "      <td>None</td>\n",
       "      <td>NaN</td>\n",
       "      <td>None</td>\n",
       "      <td>None</td>\n",
       "    </tr>\n",
       "    <tr>\n",
       "      <th>3</th>\n",
       "      <td>5</td>\n",
       "      <td>None</td>\n",
       "      <td>None</td>\n",
       "      <td>None</td>\n",
       "      <td>6</td>\n",
       "      <td>None</td>\n",
       "      <td>8</td>\n",
       "      <td>None</td>\n",
       "      <td>None</td>\n",
       "      <td>None</td>\n",
       "      <td>...</td>\n",
       "      <td>09:00:00-23:50:00</td>\n",
       "      <td>09:00:00-23:50:00</td>\n",
       "      <td>NaN</td>\n",
       "      <td>3/1</td>\n",
       "      <td>None</td>\n",
       "      <td>None</td>\n",
       "      <td>None</td>\n",
       "      <td>NaN</td>\n",
       "      <td>None</td>\n",
       "      <td>None</td>\n",
       "    </tr>\n",
       "    <tr>\n",
       "      <th>4</th>\n",
       "      <td>6</td>\n",
       "      <td>None</td>\n",
       "      <td>None</td>\n",
       "      <td>None</td>\n",
       "      <td>7</td>\n",
       "      <td>None</td>\n",
       "      <td>None</td>\n",
       "      <td>None</td>\n",
       "      <td>None</td>\n",
       "      <td>None</td>\n",
       "      <td>...</td>\n",
       "      <td>09:00:00-23:50:00</td>\n",
       "      <td>09:00:00-23:50:00</td>\n",
       "      <td>NaN</td>\n",
       "      <td>5</td>\n",
       "      <td>None</td>\n",
       "      <td>None</td>\n",
       "      <td>None</td>\n",
       "      <td>NaN</td>\n",
       "      <td>None</td>\n",
       "      <td>None</td>\n",
       "    </tr>\n",
       "  </tbody>\n",
       "</table>\n",
       "<p>5 rows × 75 columns</p>\n",
       "</div>"
      ],
      "text/plain": [
       "   stroka Start Kill all Out only InL1  InL2 OutL1 OutL2   Pos Limit  ...  \\\n",
       "0       1  True     None     None    4  None     8     5  None  None  ...   \n",
       "1       2  True     None     None    4  None     8     5  None  None  ...   \n",
       "2       4  None     None     None    5  None  None  None  None  None  ...   \n",
       "3       5  None     None     None    6  None     8  None  None  None  ...   \n",
       "4       6  None     None     None    7  None  None  None  None  None  ...   \n",
       "\n",
       "                T.In              T.Out  NotSet  FrId  MoveN  secIn secOut  \\\n",
       "0  09:00:20-23:50:00  09:00:20-23:50:00     0.0  None    3/0   None   None   \n",
       "1  09:00:20-23:50:00  09:00:20-23:50:00     0.0  None    3/0   None   None   \n",
       "2  09:00:00-23:50:00  09:00:00-23:50:00     NaN  None   None   None   None   \n",
       "3  09:00:00-23:50:00  09:00:00-23:50:00     NaN   3/1   None   None   None   \n",
       "4  09:00:00-23:50:00  09:00:00-23:50:00     NaN     5   None   None   None   \n",
       "\n",
       "      XN    MP    xx  \n",
       "0  0.005  None  None  \n",
       "1  0.005  None  None  \n",
       "2    NaN  None  None  \n",
       "3    NaN  None  None  \n",
       "4    NaN  None  None  \n",
       "\n",
       "[5 rows x 75 columns]"
      ]
     },
     "metadata": {},
     "output_type": "display_data"
    },
    {
     "name": "stdout",
     "output_type": "stream",
     "text": [
      "Финальное сопоставление строк (original -> new):\n",
      "{5562: 1, 5570: 4, 5574: 5, 5575: 6, 5576: 7, 5578: 9, 5579: 10, 5580: 11, 5577: 8, 5566: 2}\n"
     ]
    }
   ],
   "source": [
    "result = generate_robot_segment(\n",
    "    source_tvr_path=str(SOURCE_TVR),\n",
    "    base_strokas=BASE_STROKAS,\n",
    "    base_assignment=compiled_layout.base_assignment,\n",
    "    sec0_value=SEC0_VALUE,\n",
    "    output_tvr_path=str(OUTPUT_TVR_PATH),\n",
    "    output_excel_path=str(OUTPUT_EXCEL_PATH) if OUTPUT_EXCEL_PATH is not None else None,\n",
    "    duplicate_shared_filters=DUPLICATE_SHARED_FILTERS,\n",
    "    stroka_overrides=compiled_layout.stroka_overrides,\n",
    ")\n",
    "\n",
    "print(\"Готово. Файлы сохранены:\")\n",
    "print(\"  TVR:\", OUTPUT_TVR_PATH.resolve())\n",
    "if OUTPUT_EXCEL_PATH is not None:\n",
    "    print(\"  Excel:\", OUTPUT_EXCEL_PATH.resolve())\n",
    "\n",
    "print(\"Первые строки результата:\")\n",
    "display(result.dataframe.head())\n",
    "print(\"Финальное сопоставление строк (original -> new):\")\n",
    "print(result.stroka_mapping)"
   ]
  }
 ],
 "metadata": {
  "kernelspec": {
   "display_name": ".venv",
   "language": "python",
   "name": "python3"
  },
  "language_info": {
   "codemirror_mode": {
    "name": "ipython",
    "version": 3
   },
   "file_extension": ".py",
   "mimetype": "text/x-python",
   "name": "python",
   "nbconvert_exporter": "python",
   "pygments_lexer": "ipython3",
   "version": "3.12.7"
  }
 },
 "nbformat": 4,
 "nbformat_minor": 5
}
