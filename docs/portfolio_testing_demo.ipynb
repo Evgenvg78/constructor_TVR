{
 "cells": [
  {
   "cell_type": "markdown",
   "id": "6b1b5020",
   "metadata": {},
   "source": [
    "# Тестирование модуля формирования портфеля\n",
    "\n",
    "Этот ноутбук демонстрирует полный цикл работы с модулем \tvr_service.pipeline.portfolio — от загрузки данных по инструментам до расчёта распределения капитала и экспорта результатов."
   ]
  },
  {
   "cell_type": "markdown",
   "id": "30eec33a",
   "metadata": {},
   "source": [
    "## 1. Подготовка окружения\n",
    "\n",
    "Импортируем необходимые библиотеки и подключим модуль портфеля. Добавляем каталог src в sys.path, чтобы можно было использовать код проекта без установки пакета."
   ]
  },
  {
   "cell_type": "code",
   "execution_count": null,
   "id": "ecd5c848",
   "metadata": {},
   "outputs": [],
   "source": [
    "import sys\n",
    "from pathlib import Path\n",
    "\n",
    "PROJECT_ROOT = Path.cwd().parent\n",
    "SRC_DIR = PROJECT_ROOT / 'src'\n",
    "if str(SRC_DIR) not in sys.path:\n",
    "    sys.path.append(str(SRC_DIR))\n",
    "\n",
    "from tvr_service.pipeline import (\n",
    "    allocations_to_frame,\n",
    "    build_portfolio,\n",
    "    filter_by_suffix,\n",
    "    load_securities,\n",
    "    load_whitelist,\n",
    ")\n",
    "\n",
    "import pandas as pd\n"
   ]
  },
  {
   "cell_type": "markdown",
   "id": "693b28ca",
   "metadata": {},
   "source": [
    "## 2. Настройка параметров теста\n",
    "\n",
    "Задаём базовые параметры: объём капитала, необходимость скачивания свежих данных с MOEX, путь к локальному CSV (если он есть) и фильтрацию по суффиксу тикера. Все параметры можно менять и перезапускать ячейки."
   ]
  },
  {
   "cell_type": "code",
   "execution_count": null,
   "id": "e687584b",
   "metadata": {},
   "outputs": [],
   "source": [
    "CAPITAL = 1_000_000  # общий капитал, руб.\n",
    "PREFER_REMOTE = True   # при True сначала пробуем скачать данные с MOEX\n",
    "SEC_DATA_FILE = None   # можно указать путь к локальному sec_tvr.csv\n",
    "SUFFIX_FILTER = None   # например, 'H5', 'M5' и т.п. для фьючерсов\n"
   ]
  },
  {
   "cell_type": "markdown",
   "id": "94e757a2",
   "metadata": {},
   "source": [
    "## 3. Загрузка справочника инструментов\n",
    "\n",
    "Попробуем получить таблицу инструментов. Функция load_securities автоматически рассчитает поле \f",
    "ull_price и добавит тикеры TI* (клонов TB*). В процессе будет использован список из интернета или локального файла."
   ]
  },
  {
   "cell_type": "code",
   "execution_count": null,
   "id": "ce88026e",
   "metadata": {},
   "outputs": [],
   "source": [
    "securities = load_securities(sec_data_file=SEC_DATA_FILE, prefer_remote=PREFER_REMOTE)\n",
    "securities.head()"
   ]
  },
  {
   "cell_type": "markdown",
   "id": "98db47e3",
   "metadata": {},
   "source": [
    "### Новые поля справочника\n",
    "\n",
    "Справочник теперь содержит дополнительные столбцы:\n",
    "\n",
    "* `SHORTNAME` — полное имя инструмента, как его отдаёт ISS.\n",
    "* `CODE` — копия `SECID` (для совместимости со старым кодом).\n",
    "* `PRICE` и `SELLDEPO` — котировка и гарантийное обеспечение для расчётов.\n",
    "* `base_code` — базовое имя (до дефиса), используется при фильтрации whitelist."
   ]
  },
  {
   "cell_type": "code",
   "execution_count": null,
   "id": "6e8f724e",
   "metadata": {},
   "outputs": [],
   "source": [
    "securities[['SECID', 'SHORTNAME', 'base_code', 'PRICE', 'SELLDEPO']].head()"
   ]
  },
  {
   "cell_type": "markdown",
   "id": "a2715169",
   "metadata": {},
   "source": [
    "## 4. Проверка whitelist\n",
    "\n",
    "Whitelist может хранить как полные имена, так и базовые коды. Ниже показан пример фильтрации по новым колонкам."
   ]
  },
  {
   "cell_type": "code",
   "execution_count": null,
   "id": "4f2fbbc8",
   "metadata": {},
   "outputs": [],
   "source": [
    "try:\n",
    "    whitelist = load_whitelist()\n",
    "    print(f'Инструментов в whitelist: {len(whitelist)}')\n",
    "except FileNotFoundError:\n",
    "    whitelist = None\n",
    "    print('Файл whitelist не найден. Будем использовать полную вселенную инструментов.')\n",
    "\n",
    "if whitelist:\n",
    "    filtered_by_whitelist = filter_by_whitelist(securities, whitelist)\n",
    "    print(f'Инструментов после применения whitelist: {len(filtered_by_whitelist)}')\n",
    "    print('Примеры совпадений:')\n",
    "    print(filtered_by_whitelist[['SECID', 'SHORTNAME', 'base_code']].head())\n",
    "else:\n",
    "    filtered_by_whitelist = securities\n"
   ]
  },
  {
   "cell_type": "markdown",
   "id": "d3515dc8",
   "metadata": {},
   "source": [
    "## 5. Построение портфеля\n",
    "\n",
    "Выполним расчёт: функция \build_portfolio вернёт список PortfolioEntry, содержащий распределённый капитал и оценку количества лотов. Затем конвертируем результат в DataFrame для удобного анализа."
   ]
  },
  {
   "cell_type": "code",
   "execution_count": null,
   "id": "43cc36c0",
   "metadata": {},
   "outputs": [],
   "source": [
    "portfolio_entries = build_portfolio(\n",
    "    capital=CAPITAL,\n",
    "    suffix=SUFFIX_FILTER,\n",
    "    whitelist=whitelist,\n",
    "    sec_data_file=SEC_DATA_FILE,\n",
    "    prefer_remote=PREFER_REMOTE,\n",
    ")\n",
    "\n",
    "portfolio_df = allocations_to_frame(portfolio_entries)\n",
    "portfolio_df.head()"
   ]
  },
  {
   "cell_type": "markdown",
   "id": "671b9d6e",
   "metadata": {},
   "source": [
    "## 6. Диагностика распределения капитала\n",
    "\n",
    "Проверим, сколько средств было фактически распределено по инструментам, и какой объём остался неиспользованным из-за округления до целых лотов."
   ]
  },
  {
   "cell_type": "code",
   "execution_count": null,
   "id": "f6425b37",
   "metadata": {},
   "outputs": [],
   "source": [
    "allocated_capital = portfolio_df['used_capital'].sum()\n",
    "unused_capital = portfolio_df['unused_capital'].sum()\n",
    "print(f'Фактически распределено: {allocated_capital:,.2f} руб.')\n",
    "print(f'Неиспользованный остаток: {unused_capital:,.2f} руб.')\n",
    "print(f'Доля остатка: {unused_capital / CAPITAL:.2%}')\n"
   ]
  },
  {
   "cell_type": "markdown",
   "id": "83e36432",
   "metadata": {},
   "source": [
    "## 7. Топ инструментов по задействованному капиталу\n",
    "\n",
    "Отсортируем таблицу по полю used_capital, чтобы понять, какие инструменты потребляют наибольшую долю капитала."
   ]
  },
  {
   "cell_type": "code",
   "execution_count": null,
   "id": "3538548c",
   "metadata": {},
   "outputs": [],
   "source": [
    "portfolio_df.sort_values('used_capital', ascending=False).head(10)"
   ]
  },
  {
   "cell_type": "markdown",
   "id": "44fe788b",
   "metadata": {},
   "source": [
    "## 8. Сохранение результатов\n",
    "\n",
    "По желанию можно сохранить расчёт в CSV. По умолчанию файлы складываются в каталог docs."
   ]
  },
  {
   "cell_type": "code",
   "execution_count": null,
   "id": "6b615d4a",
   "metadata": {},
   "outputs": [],
   "source": [
    "output_path = PROJECT_ROOT / 'docs' / 'portfolio_result.csv'\n",
    "portfolio_df.to_csv(output_path, index=False)\n",
    "output_path"
   ]
  },
  {
   "cell_type": "markdown",
   "id": "c4f1178e",
   "metadata": {},
   "source": [
    "## 9. Следующие шаги\n",
    "\n",
    "* Изменяйте параметры и фильтры, чтобы тестировать разные сценарии.\n",
    "* Добавьте собственные таблицы параметров, когда они будут готовы, и объедините их с расчётами.\n",
    "* Используйте ноутбук как основу для презентации результатов или автоматизации отчётов."
   ]
  }
 ],
 "metadata": {},
 "nbformat": 4,
 "nbformat_minor": 5
}
