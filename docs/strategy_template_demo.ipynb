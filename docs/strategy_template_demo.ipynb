{
 "cells": [
  {
   "cell_type": "markdown",
   "id": "4e86c6cb",
   "metadata": {},
   "source": [
    "# Strategy Template Demo\n",
    "\n",
    "Demonstration of the new template-driven strategy generator."
   ]
  },
  {
   "cell_type": "code",
   "execution_count": null,
   "id": "b96b98c4",
   "metadata": {},
   "outputs": [],
   "source": [
    "import sys\n",
    "from pathlib import Path\n",
    "\n",
    "# Ensure project root is on sys.path so `src` package is importable\n",
    "project_root = Path.cwd().resolve()\n",
    "if not (project_root / \"src\").exists():\n",
    "    project_root = project_root.parent\n",
    "if str(project_root) not in sys.path:\n",
    "    sys.path.insert(0, str(project_root))\n",
    "project_root\n"
   ]
  },
  {
   "cell_type": "code",
   "execution_count": null,
   "id": "fa271444",
   "metadata": {},
   "outputs": [],
   "source": [
    "import pandas as pd\n",
    "\n",
    "from src.tvr_service.templates import ColumnAliasMapper, StrategyTemplate, TemplateRow\n",
    "from src.tvr_service.generator import StrategyGenerator\n"
   ]
  },
  {
   "cell_type": "code",
   "execution_count": null,
   "id": "29af59e5",
   "metadata": {},
   "outputs": [],
   "source": [
    "columns = [\n",
    "    \"Start\",\n",
    "    \"Kill all\",\n",
    "    \"Out only\",\n",
    "    \"InL1\",\n",
    "    \"InL2\",\n",
    "    \"OutL1\",\n",
    "    \"OutL2\",\n",
    "    \"Pos\",\n",
    "    \"Sec 0\",\n",
    "    \"W 1\",\n",
    "    \"V 1\",\n",
    "]\n",
    "mapper = ColumnAliasMapper.from_columns(columns)\n",
    "\n",
    "rows = [\n",
    "    TemplateRow(\n",
    "        alias=\"long\",\n",
    "        offset=0,\n",
    "        defaults={\n",
    "            mapper.alias_for(\"Start\"): \"{{start}}\",\n",
    "            mapper.alias_for(\"Pos\"): 1,\n",
    "            mapper.alias_for(\"Sec 0\"): \"{{sec}}\",\n",
    "        },\n",
    "    ),\n",
    "    TemplateRow(\n",
    "        alias=\"short\",\n",
    "        offset=1,\n",
    "        defaults={\n",
    "            mapper.alias_for(\"Pos\"): -1,\n",
    "        },\n",
    "    ),\n",
    "    TemplateRow(\n",
    "        alias=\"filter_1\",\n",
    "        offset=2,\n",
    "        defaults={\n",
    "            mapper.alias_for(\"InL1\"): 10,\n",
    "            mapper.alias_for(\"V 1\"): 1,\n",
    "            mapper.alias_for(\"W 1\"): 100,\n",
    "        },\n",
    "    ),\n",
    "]\n",
    "\n",
    "template = StrategyTemplate(name=\"demo\", rows=rows, column_mapper=mapper)\n",
    "generator = StrategyGenerator(template)\n"
   ]
  },
  {
   "cell_type": "code",
   "execution_count": null,
   "id": "c652708d",
   "metadata": {},
   "outputs": [],
   "source": [
    "mapper.alias_to_name\n"
   ]
  },
  {
   "cell_type": "code",
   "execution_count": null,
   "id": "772f9d85",
   "metadata": {},
   "outputs": [],
   "source": [
    "config = pd.DataFrame(\n",
    "    [\n",
    "        {\n",
    "            \"strategy_id\": \"alpha\",\n",
    "            \"start\": 100,\n",
    "            \"sec_0\": \"SEC_A\",\n",
    "            \"long_InL1\": 5,\n",
    "            \"filter_1_W_1\": 250,\n",
    "        },\n",
    "        {\n",
    "            \"strategy_id\": \"beta\",\n",
    "            \"start\": 200,\n",
    "            \"sec_0\": \"SEC_B\",\n",
    "            \"short_OutL1\": -3,\n",
    "        },\n",
    "    ]\n",
    ")\n",
    "config\n"
   ]
  },
  {
   "cell_type": "code",
   "execution_count": null,
   "id": "3080d50e",
   "metadata": {},
   "outputs": [],
   "source": [
    "result = generator.generate(config, blank_rows_between=1, sec_separator_rows=1)\n",
    "result\n"
   ]
  }
 ],
 "metadata": {},
 "nbformat": 4,
 "nbformat_minor": 5
}
