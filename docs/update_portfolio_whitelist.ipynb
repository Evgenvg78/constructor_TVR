{
 "cells": [
  {
   "cell_type": "markdown",
   "id": "6c24d84e",
   "metadata": {},
   "source": [
    "# Обновление `portfolio_whitelist.txt`\n",
    "\n",
    "Этот ноутбук помогает обновлять список инструментов для портфеля: загружаем вселенную акций MOEX, анализируем фьючерсы, вручную выбираем нужные и сохраняем в `portfolio_whitelist.txt`."
   ]
  },
  {
   "cell_type": "markdown",
   "id": "3d480703",
   "metadata": {},
   "source": [
    "## 1. Импорт зависимостей и настройка путей"
   ]
  },
  {
   "cell_type": "code",
   "execution_count": 1,
   "id": "391bbbdd",
   "metadata": {},
   "outputs": [],
   "source": [
    "\n",
    "\n",
    "import pandas as pd\n",
    "import ipywidgets as widgets\n",
    "from IPython.display import display\n",
    "\n",
    "\n",
    "\n",
    "import sys\n",
    "from pathlib import Path\n",
    "\n",
    "PROJECT_ROOT = Path.cwd().resolve()\n",
    "while PROJECT_ROOT != PROJECT_ROOT.parent and not (PROJECT_ROOT / \"src\" / \"tvr_service\").exists():\n",
    "    PROJECT_ROOT = PROJECT_ROOT.parent\n",
    "\n",
    "if not (PROJECT_ROOT / \"src\" / \"tvr_service\").exists():\n",
    "    raise RuntimeError(\"Не удалось найти каталог src/tvr_service\")\n",
    "\n",
    "SRC_DIR = PROJECT_ROOT / \"src\"\n",
    "sys.path.insert(0, str(SRC_DIR))\n",
    "\n",
    "\n",
    "from tvr_service.pipeline import (\n",
    "    get_top_futures,\n",
    "    load_share_universe,\n",
    ")\n",
    "\n",
    "DEFAULT_WHITELIST_PATH = PROJECT_ROOT / 'src' / 'tvr_service' / 'pipeline' / 'data' / 'portfolio_whitelist.txt'\n",
    "DEFAULT_SHARE_UNIVERSE_PATH = PROJECT_ROOT / 'src' / 'tvr_service' / 'pipeline' / 'data' / 'share_universe.csv'\n"
   ]
  },
  {
   "cell_type": "markdown",
   "id": "b60a45e8",
   "metadata": {},
   "source": [
    "## 2. Параметры выборки\n",
    "\n",
    "Задаём дату, сортировку, размер выборки и пути к файлам. При необходимости меняйте и перезапускайте ячейки."
   ]
  },
  {
   "cell_type": "code",
   "execution_count": 2,
   "id": "472aac4e",
   "metadata": {},
   "outputs": [],
   "source": [
    "DATE = '2025-09-25'          # дата для расчёта\n",
    "SORT_BY = 'VALUE'               # поле для сортировки: VALUE / VOLUME / NUMTRADES\n",
    "TOP_N = None                      # сколько инструментов оставить для ручного отбора (None = все)\n",
    "FETCH_LIMIT = 100              # лимит строк при загрузке истории\n",
    "WHITELIST_PATH = DEFAULT_WHITELIST_PATH\n",
    "SHARE_UNIVERSE_PATH = DEFAULT_SHARE_UNIVERSE_PATH\n",
    "SHARES_REFRESH = False          # True, чтобы перекачать вселенную акций заново\n"
   ]
  },
  {
   "cell_type": "markdown",
   "id": "99c376f2",
   "metadata": {},
   "source": [
    "## 3. Загрузка вселенной акций"
   ]
  },
  {
   "cell_type": "code",
   "execution_count": 3,
   "id": "7203ab21",
   "metadata": {},
   "outputs": [
    {
     "name": "stdout",
     "output_type": "stream",
     "text": [
      "Всего акций в базе: 258\n"
     ]
    },
    {
     "data": {
      "text/html": [
       "<div>\n",
       "<style scoped>\n",
       "    .dataframe tbody tr th:only-of-type {\n",
       "        vertical-align: middle;\n",
       "    }\n",
       "\n",
       "    .dataframe tbody tr th {\n",
       "        vertical-align: top;\n",
       "    }\n",
       "\n",
       "    .dataframe thead th {\n",
       "        text-align: right;\n",
       "    }\n",
       "</style>\n",
       "<table border=\"1\" class=\"dataframe\">\n",
       "  <thead>\n",
       "    <tr style=\"text-align: right;\">\n",
       "      <th></th>\n",
       "      <th>SECID</th>\n",
       "      <th>SECTOR</th>\n",
       "    </tr>\n",
       "  </thead>\n",
       "  <tbody>\n",
       "    <tr>\n",
       "      <th>0</th>\n",
       "      <td>ABIO</td>\n",
       "      <td>nan</td>\n",
       "    </tr>\n",
       "    <tr>\n",
       "      <th>1</th>\n",
       "      <td>ABRD</td>\n",
       "      <td>nan</td>\n",
       "    </tr>\n",
       "    <tr>\n",
       "      <th>2</th>\n",
       "      <td>AFKS</td>\n",
       "      <td>nan</td>\n",
       "    </tr>\n",
       "    <tr>\n",
       "      <th>3</th>\n",
       "      <td>AFLT</td>\n",
       "      <td>nan</td>\n",
       "    </tr>\n",
       "    <tr>\n",
       "      <th>4</th>\n",
       "      <td>ALRS</td>\n",
       "      <td>nan</td>\n",
       "    </tr>\n",
       "  </tbody>\n",
       "</table>\n",
       "</div>"
      ],
      "text/plain": [
       "  SECID SECTOR\n",
       "0  ABIO    nan\n",
       "1  ABRD    nan\n",
       "2  AFKS    nan\n",
       "3  AFLT    nan\n",
       "4  ALRS    nan"
      ]
     },
     "execution_count": 3,
     "metadata": {},
     "output_type": "execute_result"
    }
   ],
   "source": [
    "share_universe = load_share_universe(\n",
    "    share_universe_path=SHARE_UNIVERSE_PATH,\n",
    "    use_cache=True,\n",
    "    refresh=SHARES_REFRESH,\n",
    "    save_to_cache=True,\n",
    ")\n",
    "print(f'Всего акций в базе: {len(share_universe)}')\n",
    "share_universe.head()"
   ]
  },
  {
   "cell_type": "markdown",
   "id": "120b2dae",
   "metadata": {},
   "source": [
    "## 4. Загрузка всех фьючерсов (без фильтров)"
   ]
  },
  {
   "cell_type": "code",
   "execution_count": 6,
   "id": "ac44a899",
   "metadata": {},
   "outputs": [
    {
     "name": "stdout",
     "output_type": "stream",
     "text": [
      "Всего фьючерсов после агрегации: 414\n"
     ]
    },
    {
     "data": {
      "text/html": [
       "<div>\n",
       "<style scoped>\n",
       "    .dataframe tbody tr th:only-of-type {\n",
       "        vertical-align: middle;\n",
       "    }\n",
       "\n",
       "    .dataframe tbody tr th {\n",
       "        vertical-align: top;\n",
       "    }\n",
       "\n",
       "    .dataframe thead th {\n",
       "        text-align: right;\n",
       "    }\n",
       "</style>\n",
       "<table border=\"1\" class=\"dataframe\">\n",
       "  <thead>\n",
       "    <tr style=\"text-align: right;\">\n",
       "      <th></th>\n",
       "      <th>base_code</th>\n",
       "      <th>VALUE</th>\n",
       "      <th>VOLUME</th>\n",
       "      <th>NUMTRADES</th>\n",
       "    </tr>\n",
       "  </thead>\n",
       "  <tbody>\n",
       "    <tr>\n",
       "      <th>0</th>\n",
       "      <td>GOLD</td>\n",
       "      <td>9.220779e+10</td>\n",
       "      <td>295325.0</td>\n",
       "      <td>85717</td>\n",
       "    </tr>\n",
       "    <tr>\n",
       "      <th>1</th>\n",
       "      <td>SI</td>\n",
       "      <td>6.533140e+10</td>\n",
       "      <td>752128.0</td>\n",
       "      <td>130091</td>\n",
       "    </tr>\n",
       "    <tr>\n",
       "      <th>2</th>\n",
       "      <td>CNY</td>\n",
       "      <td>5.662111e+10</td>\n",
       "      <td>4651341.0</td>\n",
       "      <td>130745</td>\n",
       "    </tr>\n",
       "    <tr>\n",
       "      <th>3</th>\n",
       "      <td>NG</td>\n",
       "      <td>5.138061e+10</td>\n",
       "      <td>2009391.0</td>\n",
       "      <td>220276</td>\n",
       "    </tr>\n",
       "    <tr>\n",
       "      <th>4</th>\n",
       "      <td>MIX</td>\n",
       "      <td>4.692923e+10</td>\n",
       "      <td>167153.0</td>\n",
       "      <td>76366</td>\n",
       "    </tr>\n",
       "  </tbody>\n",
       "</table>\n",
       "</div>"
      ],
      "text/plain": [
       "  base_code         VALUE     VOLUME  NUMTRADES\n",
       "0      GOLD  9.220779e+10   295325.0      85717\n",
       "1        SI  6.533140e+10   752128.0     130091\n",
       "2       CNY  5.662111e+10  4651341.0     130745\n",
       "3        NG  5.138061e+10  2009391.0     220276\n",
       "4       MIX  4.692923e+10   167153.0      76366"
      ]
     },
     "execution_count": 6,
     "metadata": {},
     "output_type": "execute_result"
    }
   ],
   "source": [
    "all_futures = get_top_futures(\n",
    "    date=DATE,\n",
    "    sort_by=SORT_BY,\n",
    "    top_n=None,\n",
    "    limit=FETCH_LIMIT,\n",
    "    only_equities=False,\n",
    "    share_universe_path=SHARE_UNIVERSE_PATH,\n",
    "    shares_use_cache=True,\n",
    ")\n",
    "print(f'Всего фьючерсов после агрегации: {len(all_futures)}')\n",
    "# all_futures[['SECID', 'SHORTNAME', 'base_code', 'VALUE', 'VOLUME', 'NUMTRADES']].head()\n",
    "all_futures[['base_code', 'VALUE', 'VOLUME', 'NUMTRADES']].head()"
   ]
  },
  {
   "cell_type": "code",
   "execution_count": 6,
   "id": "f3d595dd",
   "metadata": {},
   "outputs": [],
   "source": [
    "# checkboxes = []\n",
    "# for idx, row in shortlist.iterrows():\n",
    "#     label = f\"{row['base_code']} | {row['SHORTNAME']} | VALUE={row['VALUE']:.0f} | VOLUME={row['VOLUME']:.0f} | TRADES={row['NUMTRADES']}\"\n",
    "#     cb = widgets.Checkbox(value=False, description=label, indent=False)\n",
    "#     checkboxes.append(cb)\n",
    "# checkbox_box = widgets.VBox(checkboxes)\n",
    "# checkbox_box"
   ]
  },
  {
   "cell_type": "markdown",
   "id": "0c2757e2",
   "metadata": {},
   "source": [
    "## 5. Фильтр по акциям"
   ]
  },
  {
   "cell_type": "code",
   "execution_count": null,
   "id": "75b16594",
   "metadata": {},
   "outputs": [],
   "source": [
    "equity_futures = set(share_universe[\"SECID\"].astype(str).str.upper())\n",
    "filtered = all_futures[\n",
    "    all_futures[\"base_code\"].astype(str).str.upper().isin(equity_codes)\n",
    "].copy()\n",
    "equity_futures.head()"
   ]
  },
  {
   "cell_type": "code",
   "execution_count": 5,
   "id": "bf6fda9e",
   "metadata": {},
   "outputs": [
    {
     "name": "stdout",
     "output_type": "stream",
     "text": [
      "Фьючерсов на акции: 96\n"
     ]
    },
    {
     "data": {
      "text/html": [
       "<div>\n",
       "<style scoped>\n",
       "    .dataframe tbody tr th:only-of-type {\n",
       "        vertical-align: middle;\n",
       "    }\n",
       "\n",
       "    .dataframe tbody tr th {\n",
       "        vertical-align: top;\n",
       "    }\n",
       "\n",
       "    .dataframe thead th {\n",
       "        text-align: right;\n",
       "    }\n",
       "</style>\n",
       "<table border=\"1\" class=\"dataframe\">\n",
       "  <thead>\n",
       "    <tr style=\"text-align: right;\">\n",
       "      <th></th>\n",
       "      <th>SECID</th>\n",
       "      <th>SHORTNAME</th>\n",
       "      <th>base_code</th>\n",
       "      <th>VALUE</th>\n",
       "      <th>VOLUME</th>\n",
       "      <th>NUMTRADES</th>\n",
       "    </tr>\n",
       "  </thead>\n",
       "  <tbody>\n",
       "    <tr>\n",
       "      <th>0</th>\n",
       "      <td>VBZ5</td>\n",
       "      <td>VTBR-12.25</td>\n",
       "      <td>VTBR</td>\n",
       "      <td>2.877429e+09</td>\n",
       "      <td>388159.0</td>\n",
       "      <td>31676</td>\n",
       "    </tr>\n",
       "    <tr>\n",
       "      <th>1</th>\n",
       "      <td>LKZ5</td>\n",
       "      <td>LKOH-12.25</td>\n",
       "      <td>LKOH</td>\n",
       "      <td>6.722578e+08</td>\n",
       "      <td>10653.0</td>\n",
       "      <td>4044</td>\n",
       "    </tr>\n",
       "    <tr>\n",
       "      <th>2</th>\n",
       "      <td>YDZ5</td>\n",
       "      <td>YDEX-12.25</td>\n",
       "      <td>YDEX</td>\n",
       "      <td>3.435369e+08</td>\n",
       "      <td>82062.0</td>\n",
       "      <td>5846</td>\n",
       "    </tr>\n",
       "    <tr>\n",
       "      <th>3</th>\n",
       "      <td>RNZ5</td>\n",
       "      <td>ROSN-12.25</td>\n",
       "      <td>ROSN</td>\n",
       "      <td>3.413223e+08</td>\n",
       "      <td>7657.0</td>\n",
       "      <td>2798</td>\n",
       "    </tr>\n",
       "    <tr>\n",
       "      <th>4</th>\n",
       "      <td>GKZ5</td>\n",
       "      <td>GMKN-12.25</td>\n",
       "      <td>GMKN</td>\n",
       "      <td>2.762941e+08</td>\n",
       "      <td>222088.0</td>\n",
       "      <td>6056</td>\n",
       "    </tr>\n",
       "  </tbody>\n",
       "</table>\n",
       "</div>"
      ],
      "text/plain": [
       "  SECID   SHORTNAME base_code         VALUE    VOLUME  NUMTRADES\n",
       "0  VBZ5  VTBR-12.25      VTBR  2.877429e+09  388159.0      31676\n",
       "1  LKZ5  LKOH-12.25      LKOH  6.722578e+08   10653.0       4044\n",
       "2  YDZ5  YDEX-12.25      YDEX  3.435369e+08   82062.0       5846\n",
       "3  RNZ5  ROSN-12.25      ROSN  3.413223e+08    7657.0       2798\n",
       "4  GKZ5  GMKN-12.25      GMKN  2.762941e+08  222088.0       6056"
      ]
     },
     "execution_count": 5,
     "metadata": {},
     "output_type": "execute_result"
    }
   ],
   "source": [
    "equity_futures = get_top_futures(\n",
    "    date=DATE,\n",
    "    sort_by=SORT_BY,\n",
    "    top_n=None,\n",
    "    limit=FETCH_LIMIT,\n",
    "    only_equities=True,\n",
    "    share_universe=share_universe,\n",
    "    share_universe_path=SHARE_UNIVERSE_PATH,\n",
    "    shares_use_cache=True,\n",
    ")\n",
    "print(f'Фьючерсов на акции: {len(equity_futures)}')\n",
    "equity_futures = equity_futures[['SECID', 'SHORTNAME', 'base_code', 'VALUE', 'VOLUME', 'NUMTRADES']]\n",
    "equity_futures.head()"
   ]
  },
  {
   "cell_type": "markdown",
   "id": "c1e1bec6",
   "metadata": {},
   "source": [
    "## 6. Сортировка и выборка ТОП N"
   ]
  },
  {
   "cell_type": "code",
   "execution_count": 6,
   "id": "782c2b76",
   "metadata": {},
   "outputs": [
    {
     "name": "stdout",
     "output_type": "stream",
     "text": [
      "Инструментов в коротком списке: 96\n"
     ]
    },
    {
     "data": {
      "text/html": [
       "<div>\n",
       "<style scoped>\n",
       "    .dataframe tbody tr th:only-of-type {\n",
       "        vertical-align: middle;\n",
       "    }\n",
       "\n",
       "    .dataframe tbody tr th {\n",
       "        vertical-align: top;\n",
       "    }\n",
       "\n",
       "    .dataframe thead th {\n",
       "        text-align: right;\n",
       "    }\n",
       "</style>\n",
       "<table border=\"1\" class=\"dataframe\">\n",
       "  <thead>\n",
       "    <tr style=\"text-align: right;\">\n",
       "      <th></th>\n",
       "      <th>SECID</th>\n",
       "      <th>SHORTNAME</th>\n",
       "      <th>base_code</th>\n",
       "      <th>VALUE</th>\n",
       "      <th>VOLUME</th>\n",
       "      <th>NUMTRADES</th>\n",
       "    </tr>\n",
       "  </thead>\n",
       "  <tbody>\n",
       "    <tr>\n",
       "      <th>0</th>\n",
       "      <td>VBZ5</td>\n",
       "      <td>VTBR-12.25</td>\n",
       "      <td>VTBR</td>\n",
       "      <td>2.877429e+09</td>\n",
       "      <td>388159.0</td>\n",
       "      <td>31676</td>\n",
       "    </tr>\n",
       "    <tr>\n",
       "      <th>1</th>\n",
       "      <td>LKZ5</td>\n",
       "      <td>LKOH-12.25</td>\n",
       "      <td>LKOH</td>\n",
       "      <td>6.722578e+08</td>\n",
       "      <td>10653.0</td>\n",
       "      <td>4044</td>\n",
       "    </tr>\n",
       "    <tr>\n",
       "      <th>2</th>\n",
       "      <td>YDZ5</td>\n",
       "      <td>YDEX-12.25</td>\n",
       "      <td>YDEX</td>\n",
       "      <td>3.435369e+08</td>\n",
       "      <td>82062.0</td>\n",
       "      <td>5846</td>\n",
       "    </tr>\n",
       "    <tr>\n",
       "      <th>3</th>\n",
       "      <td>RNZ5</td>\n",
       "      <td>ROSN-12.25</td>\n",
       "      <td>ROSN</td>\n",
       "      <td>3.413223e+08</td>\n",
       "      <td>7657.0</td>\n",
       "      <td>2798</td>\n",
       "    </tr>\n",
       "    <tr>\n",
       "      <th>4</th>\n",
       "      <td>GKZ5</td>\n",
       "      <td>GMKN-12.25</td>\n",
       "      <td>GMKN</td>\n",
       "      <td>2.762941e+08</td>\n",
       "      <td>222088.0</td>\n",
       "      <td>6056</td>\n",
       "    </tr>\n",
       "    <tr>\n",
       "      <th>...</th>\n",
       "      <td>...</td>\n",
       "      <td>...</td>\n",
       "      <td>...</td>\n",
       "      <td>...</td>\n",
       "      <td>...</td>\n",
       "      <td>...</td>\n",
       "    </tr>\n",
       "    <tr>\n",
       "      <th>91</th>\n",
       "      <td>CMH6</td>\n",
       "      <td>CBOM-3.26</td>\n",
       "      <td>CBOM</td>\n",
       "      <td>1.543000e+04</td>\n",
       "      <td>2.0</td>\n",
       "      <td>2</td>\n",
       "    </tr>\n",
       "    <tr>\n",
       "      <th>92</th>\n",
       "      <td>KMH6</td>\n",
       "      <td>KMAZ-3.26</td>\n",
       "      <td>KMAZ</td>\n",
       "      <td>7.705000e+03</td>\n",
       "      <td>8.0</td>\n",
       "      <td>3</td>\n",
       "    </tr>\n",
       "    <tr>\n",
       "      <th>93</th>\n",
       "      <td>SEH6</td>\n",
       "      <td>SPBE-3.26</td>\n",
       "      <td>SPBE</td>\n",
       "      <td>5.152000e+03</td>\n",
       "      <td>2.0</td>\n",
       "      <td>2</td>\n",
       "    </tr>\n",
       "    <tr>\n",
       "      <th>94</th>\n",
       "      <td>BNH6</td>\n",
       "      <td>BANE-3.26</td>\n",
       "      <td>BANE</td>\n",
       "      <td>3.479000e+03</td>\n",
       "      <td>2.0</td>\n",
       "      <td>2</td>\n",
       "    </tr>\n",
       "    <tr>\n",
       "      <th>95</th>\n",
       "      <td>RNU6</td>\n",
       "      <td>ROSN-9.26</td>\n",
       "      <td>ROSN</td>\n",
       "      <td>0.000000e+00</td>\n",
       "      <td>0.0</td>\n",
       "      <td>0</td>\n",
       "    </tr>\n",
       "  </tbody>\n",
       "</table>\n",
       "<p>96 rows × 6 columns</p>\n",
       "</div>"
      ],
      "text/plain": [
       "   SECID   SHORTNAME base_code         VALUE    VOLUME  NUMTRADES\n",
       "0   VBZ5  VTBR-12.25      VTBR  2.877429e+09  388159.0      31676\n",
       "1   LKZ5  LKOH-12.25      LKOH  6.722578e+08   10653.0       4044\n",
       "2   YDZ5  YDEX-12.25      YDEX  3.435369e+08   82062.0       5846\n",
       "3   RNZ5  ROSN-12.25      ROSN  3.413223e+08    7657.0       2798\n",
       "4   GKZ5  GMKN-12.25      GMKN  2.762941e+08  222088.0       6056\n",
       "..   ...         ...       ...           ...       ...        ...\n",
       "91  CMH6   CBOM-3.26      CBOM  1.543000e+04       2.0          2\n",
       "92  KMH6   KMAZ-3.26      KMAZ  7.705000e+03       8.0          3\n",
       "93  SEH6   SPBE-3.26      SPBE  5.152000e+03       2.0          2\n",
       "94  BNH6   BANE-3.26      BANE  3.479000e+03       2.0          2\n",
       "95  RNU6   ROSN-9.26      ROSN  0.000000e+00       0.0          0\n",
       "\n",
       "[96 rows x 6 columns]"
      ]
     },
     "execution_count": 6,
     "metadata": {},
     "output_type": "execute_result"
    }
   ],
   "source": [
    "sorted_futures = equity_futures.sort_values(by=SORT_BY, ascending=False).reset_index(drop=True)\n",
    "if TOP_N is not None:\n",
    "    shortlist = sorted_futures.head(TOP_N).reset_index(drop=True)\n",
    "else:\n",
    "    shortlist = sorted_futures.copy()\n",
    "print(f'Инструментов в коротком списке: {len(shortlist)}')\n",
    "shortlist"
   ]
  },
  {
   "cell_type": "markdown",
   "id": "0fe9b1b2",
   "metadata": {},
   "source": [
    "## 7. Ручной отбор через чек-боксы\n",
    "\n",
    "Отметьте галочками инструменты, которые нужно внести в whitelist. По умолчанию все включены."
   ]
  },
  {
   "cell_type": "code",
   "execution_count": 7,
   "id": "72c3ace1",
   "metadata": {},
   "outputs": [
    {
     "data": {
      "application/vnd.jupyter.widget-view+json": {
       "model_id": "d2efdd55dc2a40cdb32860702d35f1b2",
       "version_major": 2,
       "version_minor": 0
      },
      "text/plain": [
       "VBox(children=(Checkbox(value=False, description='GOLD | VALUE=92207787656 | VOLUME=295325 | TRADES=85717', in…"
      ]
     },
     "execution_count": 7,
     "metadata": {},
     "output_type": "execute_result"
    }
   ],
   "source": [
    "checkboxes = []\n",
    "for idx, row in all_futures.iterrows():\n",
    "    label = f\"{row['base_code']} | VALUE={row['VALUE']:.0f} | VOLUME={row['VOLUME']:.0f} | TRADES={row['NUMTRADES']}\"\n",
    "    cb = widgets.Checkbox(value=False, description=label, indent=False)\n",
    "    checkboxes.append(cb)\n",
    "checkbox_box = widgets.VBox(checkboxes)\n",
    "checkbox_box"
   ]
  },
  {
   "cell_type": "markdown",
   "id": "e2baef1a",
   "metadata": {},
   "source": [
    "## 8. Просмотр выбранных инструментов и сохранение"
   ]
  },
  {
   "cell_type": "code",
   "execution_count": null,
   "id": "64c4570b",
   "metadata": {},
   "outputs": [
    {
     "data": {
      "application/vnd.jupyter.widget-view+json": {
       "model_id": "475abf57cdbe420e8f4c1ef26f5fe185",
       "version_major": 2,
       "version_minor": 0
      },
      "text/plain": [
       "VBox(children=(Button(button_style='info', description='Показать выбранные', style=ButtonStyle()), Output(), B…"
      ]
     },
     "execution_count": 9,
     "metadata": {},
     "output_type": "execute_result"
    }
   ],
   "source": [
    "def _selected_indices():\n",
    "    return [i for i, cb in enumerate(checkboxes) if cb.value]\n",
    "\n",
    "preview_output = widgets.Output()\n",
    "save_output = widgets.Output()\n",
    "\n",
    "preview_button = widgets.Button(description='Показать выбранные', button_style='info')\n",
    "save_button = widgets.Button(description='Сохранить в whitelist', button_style='success')\n",
    "\n",
    "list_box = widgets.VBox([preview_button, preview_output, save_button, save_output])\n",
    "\n",
    "def _on_preview(_):\n",
    "    with preview_output:\n",
    "        preview_output.clear_output()\n",
    "        idxs = _selected_indices()\n",
    "        if not idxs:\n",
    "            print('Ничего не выбрано.')\n",
    "            return\n",
    "        selected = all_futures.iloc[idxs]\n",
    "        print(f'Выбрано {len(selected)} инструментов:')\n",
    "        display(selected)\n",
    "\n",
    "def _on_save(_):\n",
    "    with save_output:\n",
    "        save_output.clear_output()\n",
    "        idxs = _selected_indices()\n",
    "        if not idxs:\n",
    "            print('Нечего сохранять — отметьте хотя бы один инструмент.')\n",
    "            return\n",
    "        selected_codes = all_futures.iloc[idxs]['base_code'].astype(str).str.upper().tolist()\n",
    "        unique_codes = sorted(set(selected_codes))\n",
    "        WHITELIST_PATH.parent.mkdir(parents=True, exist_ok=True)\n",
    "        WHITELIST_PATH.write_text('\\n'.join(unique_codes), encoding='utf-8')\n",
    "        print(f'Сохранено {len(unique_codes)} тикеров в {WHITELIST_PATH}')\n",
    "        print('Для проверки содержание файла можно открыть в отдельной вкладке.')\n",
    "\n",
    "preview_button.on_click(_on_preview)\n",
    "save_button.on_click(_on_save)\n",
    "list_box"
   ]
  }
 ],
 "metadata": {
  "kernelspec": {
   "display_name": ".venv",
   "language": "python",
   "name": "python3"
  },
  "language_info": {
   "codemirror_mode": {
    "name": "ipython",
    "version": 3
   },
   "file_extension": ".py",
   "mimetype": "text/x-python",
   "name": "python",
   "nbconvert_exporter": "python",
   "pygments_lexer": "ipython3",
   "version": "3.12.7"
  }
 },
 "nbformat": 4,
 "nbformat_minor": 5
}
