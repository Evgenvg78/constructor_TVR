{
 "cells": [
  {
   "cell_type": "markdown",
   "id": "da130235",
   "metadata": {},
   "source": [
    "# Эксперимент: генерация TVR из тестовой конфигурации"
   ]
  },
  {
   "cell_type": "markdown",
   "id": "66c09839",
   "metadata": {},
   "source": [
    "### Шаг 1. Определяем список колонок и подключаем зависимости\n",
    "Определяем перечень override-колонок, указанный в задаче, и настраиваем окружение для работы с проектом."
   ]
  },
  {
   "cell_type": "code",
   "execution_count": null,
   "id": "c6ca1df3",
   "metadata": {},
   "outputs": [],
   "source": [
    "from pathlib import Path\n",
    "import sys\n",
    "\n",
    "import pandas as pd\n",
    "from IPython.display import display\n",
    "\n",
    "PROJECT_ROOT = Path.cwd().resolve()\n",
    "SRC_PATH = PROJECT_ROOT / 'src'\n",
    "if str(SRC_PATH) not in sys.path:\n",
    "    sys.path.append(str(SRC_PATH))\n",
    "\n",
    "override_columns = [\n",
    "    'base_long_SM',\n",
    "    'base_long_Sec_0',\n",
    "    'base_long_Sec_1',\n",
    "    'base_long_V_0',\n",
    "    'base_short_SM',\n",
    "    'base_short_Sec_0',\n",
    "    'base_short_Sec_1',\n",
    "    'base_short_V_0',\n",
    "    'filter_1_long_short_Sec_0',\n",
    "    'filter_1_long_short_Sec_1',\n",
    "    'filter_2_long_short_Sec_0',\n",
    "    'filter_2_long_short_W_1',\n",
    "    'filter_3_long_short_2_Sec_0',\n",
    "    'filter_3_long_short_2_Sec_1',\n",
    "    'filter_3_long_short_Sec_0',\n",
    "    'filter_3_long_short_W_1',\n",
    "    'filter_4_long_short_Sec_0',\n",
    "    'filter_4_long_short_Sec_1',\n",
    "    'filter_5_long_short_Sec_0',\n",
    "    'filter_5_long_short_Sec_1',\n",
    "    'filter_6_long_short_Sec_0',\n",
    "    'filter_6_long_short_W_1',\n",
    "    'filter_7_long_short_Sec_0',\n",
    "    'filter_7_long_short_W_1',\n",
    "]\n",
    "\n",
    "display(pd.Series(override_columns, name='override_columns'))"
   ]
  },
  {
   "cell_type": "markdown",
   "id": "87515df6",
   "metadata": {},
   "source": [
    "### Шаг 2. Формируем тестовую конфигурационную таблицу\n",
    "Создаём DataFrame с указанными колонками и добавляем служебные поля strategy_id, start, sec_0."
   ]
  },
  {
   "cell_type": "code",
   "execution_count": null,
   "id": "ed4d2167",
   "metadata": {},
   "outputs": [],
   "source": [
    "num_rows = 3\n",
    "base_sequence = range(1, num_rows + 1)\n",
    "\n",
    "data = {column: [value + idx for value in base_sequence] for idx, column in enumerate(override_columns)}\n",
    "\n",
    "config_df = pd.DataFrame(data)\n",
    "config_df['strategy_id'] = [f'S{idx + 1}' for idx in range(num_rows)]\n",
    "config_df['start'] = [100 + idx * 50 for idx in range(num_rows)]\n",
    "config_df['sec_0'] = [1, 1, 2]\n",
    "\n",
    "ordered_columns = ['strategy_id', 'start', 'sec_0'] + override_columns\n",
    "config_df = config_df[ordered_columns]\n",
    "\n",
    "display(config_df)"
   ]
  },
  {
   "cell_type": "markdown",
   "id": "02e2df76",
   "metadata": {},
   "source": [
    "### Шаг 3. Строим шаблон и генерируем экспериментальный TVR\n",
    "Загружаем маску, конструируем StrategyTemplate, запускаем StrategyGenerator и смотрим результат."
   ]
  },
  {
   "cell_type": "code",
   "execution_count": null,
   "id": "8df7103f",
   "metadata": {},
   "outputs": [],
   "source": [
    "from tvr_service.templates.mask_template import build_template_from_mask_df\n",
    "from tvr_service.generator.strategy_builder import StrategyGenerator\n",
    "\n",
    "mask_path = Path('docs/mask_template.xlsx')\n",
    "raw_mask_df = pd.read_excel(mask_path)\n",
    "mask_df = raw_mask_df.dropna(subset=['row_alias']).copy()\n",
    "\n",
    "mask_result = build_template_from_mask_df(\n",
    "    mask_df,\n",
    "    name='mask_template',\n",
    "    row_alias_column='row_alias',\n",
    "    marker=1,\n",
    ")\n",
    "\n",
    "generator = StrategyGenerator(mask_result.template)\n",
    "tvr_df = generator.generate(config_df)\n",
    "\n",
    "print('????? override-??????? ? ???????:', len(mask_result.override_columns))\n",
    "display(pd.Series(mask_result.override_columns[:15], name='override_sample'))\n",
    "\n",
    "display(tvr_df.head(40))"
   ]
  }
 ],
 "metadata": {
  "kernelspec": {
   "display_name": "Python 3",
   "language": "python",
   "name": "python3"
  },
  "language_info": {
   "file_extension": ".py",
   "mimetype": "text/x-python",
   "name": "python",
   "pygments_lexer": "ipython3"
  }
 },
 "nbformat": 4,
 "nbformat_minor": 5
}
